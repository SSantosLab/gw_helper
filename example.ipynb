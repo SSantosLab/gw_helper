{
 "cells": [
  {
   "cell_type": "code",
   "execution_count": 1,
   "metadata": {
    "scrolled": false
   },
   "outputs": [],
   "source": [
    "import gw_helper"
   ]
  },
  {
   "cell_type": "markdown",
   "metadata": {},
   "source": [
    "Use setup_tilings() to modify a json file for observing with DECam. \n",
    "The entire list of exposures is considered as one \"tiling\". \n",
    "Multiple tilings (copies of the entire list) can be created by \n",
    "setting the number of tilings to > 1. \n",
    "Exposure details (band, exposure time, and ra/dec offsets) \n",
    "must be specified for each tiling via parameter lists. \n",
    "If a parameter is set to None for a given tiling, the original \n",
    "tiling value will be copied over. \n",
    "The propid can also be specified; it will be applied to all tilings. "
   ]
  },
  {
   "cell_type": "code",
   "execution_count": 2,
   "metadata": {
    "scrolled": false
   },
   "outputs": [
    {
     "name": "stderr",
     "output_type": "stream",
     "text": [
      "2020-02-08 00:20:20,616 - json_for_gw - INFO - LOG: /data/des41.a/data/marcelle/gw_helper/log/json_mod_00h20m20s.log\n"
     ]
    },
    {
     "name": "stdout",
     "output_type": "stream",
     "text": [
      "[\n",
      "    {\n",
      "        \"RA\": 10.22505, \n",
      "        \"comment\": \"NS event s190814lal: 7 of 60, hex 10-24 tiling 1\", \n",
      "        \"count\": 1, \n",
      "        \"dec\": -23.68476, \n",
      "        \"expType\": \"object\", \n",
      "        \"exptime\": 100, \n",
      "        \"filter\": \"i\", \n",
      "        \"note\": \"Added to queue from desgw json file, not obstac\", \n",
      "        \"object\": \"NS event s190814lal: 7 of 60, hex 10-24 tiling 1\", \n",
      "        \"program\": \"des gw\", \n",
      "        \"propid\": \"2019B-0372\", \n",
      "        \"seqid\": \"s190814lal\", \n",
      "        \"seqnum\": 7, \n",
      "        \"seqtot\": 60, \n",
      "        \"wait\": \"False\"\n",
      "    }, \n",
      "    {\n",
      "        \"RA\": 10.294664, \n",
      "        \"comment\": \"NS event s190814lal: 8 of 60, hex 10-24 tiling 5\", \n",
      "        \"count\": 1, \n",
      "        \"dec\": -23.39732, \n",
      "        \"expType\": \"object\", \n",
      "        \"exptime\": 100, \n",
      "        \"filter\": \"i\", \n",
      "        \"note\": \"Added to queue from desgw json file, not obstac\", \n",
      "        \"object\": \"NS event s190814lal: 8 of 60, hex 10-24 tiling 5\", \n",
      "        \"program\": \"des gw\", \n",
      "        \"propid\": \"2019B-0372\", \n",
      "        \"seqid\": \"s190814lal\", \n",
      "        \"seqnum\": 8, \n",
      "        \"seqtot\": 60, \n",
      "        \"wait\": \"False\"\n",
      "    }\n",
      "]\n"
     ]
    }
   ],
   "source": [
    "# As, an example, consider this sample file with two exposures:\n",
    "a=gw_helper.open_json('json/sample.json')\n",
    "print gw_helper.json.dumps(a,indent=4,sort_keys=True)"
   ]
  },
  {
   "cell_type": "code",
   "execution_count": 3,
   "metadata": {
    "scrolled": false
   },
   "outputs": [],
   "source": [
    "# We can use setup_tilings() to update the propid:\n",
    "gw_helper.setup_tilings(\n",
    "    json_files=['json/sample.json'],\n",
    "    tilings=1,\n",
    "    ra_shift=[0.0],\n",
    "    dec_shift=[0.0],\n",
    "    etime=[None],\n",
    "    band=[None],\n",
    "    propid='2020A-0402',\n",
    "    dir_out=None,\n",
    "    dir_log=None, \n",
    "    prefix='out1',\n",
    "    overwrite=False)"
   ]
  },
  {
   "cell_type": "code",
   "execution_count": 4,
   "metadata": {
    "scrolled": false
   },
   "outputs": [
    {
     "name": "stdout",
     "output_type": "stream",
     "text": [
      "[\n",
      "    {\n",
      "        \"RA\": 10.22505, \n",
      "        \"comment\": \"NS event s190814lal: 7 of 60, hex 10-24 tiling 1\", \n",
      "        \"count\": 1, \n",
      "        \"dec\": -23.68476, \n",
      "        \"expType\": \"object\", \n",
      "        \"exptime\": 100, \n",
      "        \"filter\": \"i\", \n",
      "        \"note\": \"Added to queue from desgw json file, not obstac\", \n",
      "        \"object\": \"NS event s190814lal: 7 of 60, hex 10-24 tiling 1\", \n",
      "        \"program\": \"des gw\", \n",
      "        \"propid\": \"2020A-0402\", \n",
      "        \"seqid\": \"s190814lal\", \n",
      "        \"seqnum\": 7, \n",
      "        \"seqtot\": 60, \n",
      "        \"wait\": \"False\"\n",
      "    }, \n",
      "    {\n",
      "        \"RA\": 10.294664, \n",
      "        \"comment\": \"NS event s190814lal: 8 of 60, hex 10-24 tiling 5\", \n",
      "        \"count\": 1, \n",
      "        \"dec\": -23.39732, \n",
      "        \"expType\": \"object\", \n",
      "        \"exptime\": 100, \n",
      "        \"filter\": \"i\", \n",
      "        \"note\": \"Added to queue from desgw json file, not obstac\", \n",
      "        \"object\": \"NS event s190814lal: 8 of 60, hex 10-24 tiling 5\", \n",
      "        \"program\": \"des gw\", \n",
      "        \"propid\": \"2020A-0402\", \n",
      "        \"seqid\": \"s190814lal\", \n",
      "        \"seqnum\": 8, \n",
      "        \"seqtot\": 60, \n",
      "        \"wait\": \"False\"\n",
      "    }\n",
      "]\n"
     ]
    }
   ],
   "source": [
    "# Here is what the output looks like:\n",
    "b=gw_helper.open_json('json/out1_sample.json')\n",
    "print gw_helper.json.dumps(b,indent=4,sort_keys=True)"
   ]
  },
  {
   "cell_type": "code",
   "execution_count": 5,
   "metadata": {
    "scrolled": false
   },
   "outputs": [
    {
     "name": "stderr",
     "output_type": "stream",
     "text": [
      "2020-02-08 00:20:20,660 - json_for_gw - INFO - Working on file json/sample.json\n",
      "2020-02-08 00:20:20,662 - json_for_gw - INFO - Completed tiling 0 of 2\n",
      "2020-02-08 00:20:20,663 - json_for_gw - INFO - Completed tiling 1 of 2\n",
      "2020-02-08 00:20:20,666 - json_for_gw - INFO - File /data/des41.a/data/marcelle/gw_helper/json/out2_sample.json was (over)written\n"
     ]
    }
   ],
   "source": [
    "# We can use also use setup_tilings() to create a new tiling\n",
    "# Here the new tiling has 200s exposures in z and is offset 0.5 deg in RA:\n",
    "gw_helper.setup_tilings(\n",
    "    json_files=['json/sample.json'],\n",
    "    tilings=2,\n",
    "    ra_shift=[0.0,0.5],\n",
    "    dec_shift=[0.0,0.0],\n",
    "    etime=[None,200],\n",
    "    band=[None,'z'],\n",
    "    propid='2020A-0402',\n",
    "    dir_out=None,\n",
    "    dir_log=None, \n",
    "    prefix='out2',\n",
    "    overwrite=True,\n",
    "    debug=True)"
   ]
  },
  {
   "cell_type": "code",
   "execution_count": 6,
   "metadata": {
    "scrolled": false
   },
   "outputs": [
    {
     "name": "stdout",
     "output_type": "stream",
     "text": [
      "[\n",
      "    {\n",
      "        \"RA\": 10.22505, \n",
      "        \"comment\": \"NS event s190814lal: 7 of 60, hex 10-24 tiling 1\", \n",
      "        \"count\": 1, \n",
      "        \"dec\": -23.68476, \n",
      "        \"expType\": \"object\", \n",
      "        \"exptime\": 100, \n",
      "        \"filter\": \"i\", \n",
      "        \"note\": \"Added to queue from desgw json file, not obstac\", \n",
      "        \"object\": \"NS event s190814lal: 7 of 60, hex 10-24 tiling 1\", \n",
      "        \"program\": \"des gw\", \n",
      "        \"propid\": \"2020A-0402\", \n",
      "        \"seqid\": \"s190814lal\", \n",
      "        \"seqnum\": 7, \n",
      "        \"seqtot\": 60, \n",
      "        \"wait\": \"False\"\n",
      "    }, \n",
      "    {\n",
      "        \"RA\": 10.294664, \n",
      "        \"comment\": \"NS event s190814lal: 8 of 60, hex 10-24 tiling 5\", \n",
      "        \"count\": 1, \n",
      "        \"dec\": -23.39732, \n",
      "        \"expType\": \"object\", \n",
      "        \"exptime\": 100, \n",
      "        \"filter\": \"i\", \n",
      "        \"note\": \"Added to queue from desgw json file, not obstac\", \n",
      "        \"object\": \"NS event s190814lal: 8 of 60, hex 10-24 tiling 5\", \n",
      "        \"program\": \"des gw\", \n",
      "        \"propid\": \"2020A-0402\", \n",
      "        \"seqid\": \"s190814lal\", \n",
      "        \"seqnum\": 8, \n",
      "        \"seqtot\": 60, \n",
      "        \"wait\": \"False\"\n",
      "    }, \n",
      "    {\n",
      "        \"RA\": 10.72505, \n",
      "        \"comment\": \"NS event s190814lal: 7 of 60, hex 10-24 tiling 1\", \n",
      "        \"count\": 1, \n",
      "        \"dec\": -23.68476, \n",
      "        \"expType\": \"object\", \n",
      "        \"exptime\": 200, \n",
      "        \"filter\": \"z\", \n",
      "        \"note\": \"Added to queue from desgw json file, not obstac\", \n",
      "        \"object\": \"NS event s190814lal: 7 of 60, hex 10-24 tiling 1\", \n",
      "        \"program\": \"des gw\", \n",
      "        \"propid\": \"2020A-0402\", \n",
      "        \"seqid\": \"s190814lal\", \n",
      "        \"seqnum\": 7, \n",
      "        \"seqtot\": 60, \n",
      "        \"wait\": \"False\"\n",
      "    }, \n",
      "    {\n",
      "        \"RA\": 10.794664, \n",
      "        \"comment\": \"NS event s190814lal: 8 of 60, hex 10-24 tiling 5\", \n",
      "        \"count\": 1, \n",
      "        \"dec\": -23.39732, \n",
      "        \"expType\": \"object\", \n",
      "        \"exptime\": 200, \n",
      "        \"filter\": \"z\", \n",
      "        \"note\": \"Added to queue from desgw json file, not obstac\", \n",
      "        \"object\": \"NS event s190814lal: 8 of 60, hex 10-24 tiling 5\", \n",
      "        \"program\": \"des gw\", \n",
      "        \"propid\": \"2020A-0402\", \n",
      "        \"seqid\": \"s190814lal\", \n",
      "        \"seqnum\": 8, \n",
      "        \"seqtot\": 60, \n",
      "        \"wait\": \"False\"\n",
      "    }\n",
      "]\n"
     ]
    }
   ],
   "source": [
    "# Here is what the output looks like:\n",
    "c=gw_helper.open_json('json/out2_sample.json')\n",
    "print gw_helper.json.dumps(c,indent=4,sort_keys=True)"
   ]
  }
 ],
 "metadata": {
  "kernelspec": {
   "display_name": "Python 2",
   "language": "python",
   "name": "python2"
  },
  "language_info": {
   "codemirror_mode": {
    "name": "ipython",
    "version": 2
   },
   "file_extension": ".py",
   "mimetype": "text/x-python",
   "name": "python",
   "nbconvert_exporter": "python",
   "pygments_lexer": "ipython2",
   "version": "2.7.15"
  }
 },
 "nbformat": 4,
 "nbformat_minor": 2
}
